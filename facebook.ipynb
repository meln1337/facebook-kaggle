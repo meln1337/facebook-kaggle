{
 "cells": [
  {
   "cell_type": "code",
   "execution_count": 1,
   "id": "9e123ed9-f8d8-42ee-b186-74b0e0b89910",
   "metadata": {},
   "outputs": [],
   "source": [
    "# !kaggle competitions download -c facebook-recruiting-iv-human-or-bot"
   ]
  },
  {
   "cell_type": "code",
   "execution_count": 2,
   "id": "12cd797f-e5b7-4c90-a6c6-4a664b9e3415",
   "metadata": {},
   "outputs": [],
   "source": [
    "# from zipfile import ZipFile"
   ]
  },
  {
   "cell_type": "code",
   "execution_count": 3,
   "id": "7daa1da4-db22-4396-8f58-42f5f55116b3",
   "metadata": {},
   "outputs": [],
   "source": [
    "# with ZipFile('facebook-recruiting-iv-human-or-bot.zip', 'r') as zipObj:\n",
    "#     zipObj.extractall()"
   ]
  },
  {
   "cell_type": "code",
   "execution_count": 4,
   "id": "e0fc7b57-30b6-410e-a577-c4f9bbfd0850",
   "metadata": {},
   "outputs": [],
   "source": [
    "# with ZipFile('bids.csv.zip', 'r') as zipObj:\n",
    "#     zipObj.extractall()\n",
    "    \n",
    "# with ZipFile('test.csv.zip', 'r') as zipObj:\n",
    "#     zipObj.extractall()\n",
    "    \n",
    "# with ZipFile('train.csv.zip', 'r') as zipObj:\n",
    "#     zipObj.extractall()"
   ]
  },
  {
   "cell_type": "code",
   "execution_count": 44,
   "id": "8e8ec574-73b6-4ec0-88cc-332fc0ca1bdb",
   "metadata": {},
   "outputs": [],
   "source": [
    "import os\n",
    "import numpy as np\n",
    "import pandas as pd\n",
    "import matplotlib.pyplot as plt\n",
    "import seaborn as sns\n",
    "import warnings"
   ]
  },
  {
   "cell_type": "code",
   "execution_count": 45,
   "id": "fdd62cc0-4cfa-429f-bab7-0babe11a96e0",
   "metadata": {},
   "outputs": [],
   "source": [
    "warnings.filterwarnings('ignore')\n",
    "sns.set_theme()"
   ]
  },
  {
   "cell_type": "markdown",
   "id": "2c4ea00b-f6d4-4f51-b4c8-b60ca9e5c959",
   "metadata": {},
   "source": [
    "# EDA"
   ]
  },
  {
   "cell_type": "code",
   "execution_count": 6,
   "id": "a30df287-a491-4711-9872-f518790e3e55",
   "metadata": {},
   "outputs": [
    {
     "data": {
      "text/html": [
       "<div>\n",
       "<style scoped>\n",
       "    .dataframe tbody tr th:only-of-type {\n",
       "        vertical-align: middle;\n",
       "    }\n",
       "\n",
       "    .dataframe tbody tr th {\n",
       "        vertical-align: top;\n",
       "    }\n",
       "\n",
       "    .dataframe thead th {\n",
       "        text-align: right;\n",
       "    }\n",
       "</style>\n",
       "<table border=\"1\" class=\"dataframe\">\n",
       "  <thead>\n",
       "    <tr style=\"text-align: right;\">\n",
       "      <th></th>\n",
       "      <th>bidder_id</th>\n",
       "      <th>payment_account</th>\n",
       "      <th>address</th>\n",
       "      <th>outcome</th>\n",
       "    </tr>\n",
       "  </thead>\n",
       "  <tbody>\n",
       "    <tr>\n",
       "      <th>0</th>\n",
       "      <td>91a3c57b13234af24875c56fb7e2b2f4rb56a</td>\n",
       "      <td>a3d2de7675556553a5f08e4c88d2c228754av</td>\n",
       "      <td>a3d2de7675556553a5f08e4c88d2c228vt0u4</td>\n",
       "      <td>0.0</td>\n",
       "    </tr>\n",
       "    <tr>\n",
       "      <th>1</th>\n",
       "      <td>624f258b49e77713fc34034560f93fb3hu3jo</td>\n",
       "      <td>a3d2de7675556553a5f08e4c88d2c228v1sga</td>\n",
       "      <td>ae87054e5a97a8f840a3991d12611fdcrfbq3</td>\n",
       "      <td>0.0</td>\n",
       "    </tr>\n",
       "    <tr>\n",
       "      <th>2</th>\n",
       "      <td>1c5f4fc669099bfbfac515cd26997bd12ruaj</td>\n",
       "      <td>a3d2de7675556553a5f08e4c88d2c2280cybl</td>\n",
       "      <td>92520288b50f03907041887884ba49c0cl0pd</td>\n",
       "      <td>0.0</td>\n",
       "    </tr>\n",
       "    <tr>\n",
       "      <th>3</th>\n",
       "      <td>4bee9aba2abda51bf43d639013d6efe12iycd</td>\n",
       "      <td>51d80e233f7b6a7dfdee484a3c120f3b2ita8</td>\n",
       "      <td>4cb9717c8ad7e88a9a284989dd79b98dbevyi</td>\n",
       "      <td>0.0</td>\n",
       "    </tr>\n",
       "    <tr>\n",
       "      <th>4</th>\n",
       "      <td>4ab12bc61c82ddd9c2d65e60555808acqgos1</td>\n",
       "      <td>a3d2de7675556553a5f08e4c88d2c22857ddh</td>\n",
       "      <td>2a96c3ce94b3be921e0296097b88b56a7x1ji</td>\n",
       "      <td>0.0</td>\n",
       "    </tr>\n",
       "  </tbody>\n",
       "</table>\n",
       "</div>"
      ],
      "text/plain": [
       "                               bidder_id  \\\n",
       "0  91a3c57b13234af24875c56fb7e2b2f4rb56a   \n",
       "1  624f258b49e77713fc34034560f93fb3hu3jo   \n",
       "2  1c5f4fc669099bfbfac515cd26997bd12ruaj   \n",
       "3  4bee9aba2abda51bf43d639013d6efe12iycd   \n",
       "4  4ab12bc61c82ddd9c2d65e60555808acqgos1   \n",
       "\n",
       "                         payment_account  \\\n",
       "0  a3d2de7675556553a5f08e4c88d2c228754av   \n",
       "1  a3d2de7675556553a5f08e4c88d2c228v1sga   \n",
       "2  a3d2de7675556553a5f08e4c88d2c2280cybl   \n",
       "3  51d80e233f7b6a7dfdee484a3c120f3b2ita8   \n",
       "4  a3d2de7675556553a5f08e4c88d2c22857ddh   \n",
       "\n",
       "                                 address  outcome  \n",
       "0  a3d2de7675556553a5f08e4c88d2c228vt0u4      0.0  \n",
       "1  ae87054e5a97a8f840a3991d12611fdcrfbq3      0.0  \n",
       "2  92520288b50f03907041887884ba49c0cl0pd      0.0  \n",
       "3  4cb9717c8ad7e88a9a284989dd79b98dbevyi      0.0  \n",
       "4  2a96c3ce94b3be921e0296097b88b56a7x1ji      0.0  "
      ]
     },
     "execution_count": 6,
     "metadata": {},
     "output_type": "execute_result"
    }
   ],
   "source": [
    "train_df = pd.read_csv('./train.csv')\n",
    "train_df.head()"
   ]
  },
  {
   "cell_type": "code",
   "execution_count": 7,
   "id": "cf80d5d7-7cbd-45e7-bc27-09fb7efeda56",
   "metadata": {},
   "outputs": [
    {
     "name": "stdout",
     "output_type": "stream",
     "text": [
      "<class 'pandas.core.frame.DataFrame'>\n",
      "RangeIndex: 2013 entries, 0 to 2012\n",
      "Data columns (total 4 columns):\n",
      " #   Column           Non-Null Count  Dtype  \n",
      "---  ------           --------------  -----  \n",
      " 0   bidder_id        2013 non-null   object \n",
      " 1   payment_account  2013 non-null   object \n",
      " 2   address          2013 non-null   object \n",
      " 3   outcome          2013 non-null   float64\n",
      "dtypes: float64(1), object(3)\n",
      "memory usage: 63.0+ KB\n"
     ]
    }
   ],
   "source": [
    "train_df.info()"
   ]
  },
  {
   "cell_type": "code",
   "execution_count": 8,
   "id": "2eb848e1-29c6-4efc-bd4a-ffbfee626fe2",
   "metadata": {},
   "outputs": [
    {
     "data": {
      "text/html": [
       "<div>\n",
       "<style scoped>\n",
       "    .dataframe tbody tr th:only-of-type {\n",
       "        vertical-align: middle;\n",
       "    }\n",
       "\n",
       "    .dataframe tbody tr th {\n",
       "        vertical-align: top;\n",
       "    }\n",
       "\n",
       "    .dataframe thead th {\n",
       "        text-align: right;\n",
       "    }\n",
       "</style>\n",
       "<table border=\"1\" class=\"dataframe\">\n",
       "  <thead>\n",
       "    <tr style=\"text-align: right;\">\n",
       "      <th></th>\n",
       "      <th>outcome</th>\n",
       "    </tr>\n",
       "  </thead>\n",
       "  <tbody>\n",
       "    <tr>\n",
       "      <th>count</th>\n",
       "      <td>2013.000000</td>\n",
       "    </tr>\n",
       "    <tr>\n",
       "      <th>mean</th>\n",
       "      <td>0.051167</td>\n",
       "    </tr>\n",
       "    <tr>\n",
       "      <th>std</th>\n",
       "      <td>0.220394</td>\n",
       "    </tr>\n",
       "    <tr>\n",
       "      <th>min</th>\n",
       "      <td>0.000000</td>\n",
       "    </tr>\n",
       "    <tr>\n",
       "      <th>25%</th>\n",
       "      <td>0.000000</td>\n",
       "    </tr>\n",
       "    <tr>\n",
       "      <th>50%</th>\n",
       "      <td>0.000000</td>\n",
       "    </tr>\n",
       "    <tr>\n",
       "      <th>75%</th>\n",
       "      <td>0.000000</td>\n",
       "    </tr>\n",
       "    <tr>\n",
       "      <th>max</th>\n",
       "      <td>1.000000</td>\n",
       "    </tr>\n",
       "  </tbody>\n",
       "</table>\n",
       "</div>"
      ],
      "text/plain": [
       "           outcome\n",
       "count  2013.000000\n",
       "mean      0.051167\n",
       "std       0.220394\n",
       "min       0.000000\n",
       "25%       0.000000\n",
       "50%       0.000000\n",
       "75%       0.000000\n",
       "max       1.000000"
      ]
     },
     "execution_count": 8,
     "metadata": {},
     "output_type": "execute_result"
    }
   ],
   "source": [
    "train_df.describe(include=np.number)"
   ]
  },
  {
   "cell_type": "code",
   "execution_count": 9,
   "id": "464c4894-434f-4733-bbf3-03ed3483d47a",
   "metadata": {},
   "outputs": [
    {
     "data": {
      "text/html": [
       "<div>\n",
       "<style scoped>\n",
       "    .dataframe tbody tr th:only-of-type {\n",
       "        vertical-align: middle;\n",
       "    }\n",
       "\n",
       "    .dataframe tbody tr th {\n",
       "        vertical-align: top;\n",
       "    }\n",
       "\n",
       "    .dataframe thead th {\n",
       "        text-align: right;\n",
       "    }\n",
       "</style>\n",
       "<table border=\"1\" class=\"dataframe\">\n",
       "  <thead>\n",
       "    <tr style=\"text-align: right;\">\n",
       "      <th></th>\n",
       "      <th>bidder_id</th>\n",
       "      <th>payment_account</th>\n",
       "      <th>address</th>\n",
       "    </tr>\n",
       "  </thead>\n",
       "  <tbody>\n",
       "    <tr>\n",
       "      <th>count</th>\n",
       "      <td>2013</td>\n",
       "      <td>2013</td>\n",
       "      <td>2013</td>\n",
       "    </tr>\n",
       "    <tr>\n",
       "      <th>unique</th>\n",
       "      <td>2013</td>\n",
       "      <td>2013</td>\n",
       "      <td>2013</td>\n",
       "    </tr>\n",
       "    <tr>\n",
       "      <th>top</th>\n",
       "      <td>91a3c57b13234af24875c56fb7e2b2f4rb56a</td>\n",
       "      <td>a3d2de7675556553a5f08e4c88d2c228754av</td>\n",
       "      <td>a3d2de7675556553a5f08e4c88d2c228vt0u4</td>\n",
       "    </tr>\n",
       "    <tr>\n",
       "      <th>freq</th>\n",
       "      <td>1</td>\n",
       "      <td>1</td>\n",
       "      <td>1</td>\n",
       "    </tr>\n",
       "  </tbody>\n",
       "</table>\n",
       "</div>"
      ],
      "text/plain": [
       "                                    bidder_id  \\\n",
       "count                                    2013   \n",
       "unique                                   2013   \n",
       "top     91a3c57b13234af24875c56fb7e2b2f4rb56a   \n",
       "freq                                        1   \n",
       "\n",
       "                              payment_account  \\\n",
       "count                                    2013   \n",
       "unique                                   2013   \n",
       "top     a3d2de7675556553a5f08e4c88d2c228754av   \n",
       "freq                                        1   \n",
       "\n",
       "                                      address  \n",
       "count                                    2013  \n",
       "unique                                   2013  \n",
       "top     a3d2de7675556553a5f08e4c88d2c228vt0u4  \n",
       "freq                                        1  "
      ]
     },
     "execution_count": 9,
     "metadata": {},
     "output_type": "execute_result"
    }
   ],
   "source": [
    "train_df.describe(include=object)"
   ]
  },
  {
   "cell_type": "code",
   "execution_count": 10,
   "id": "4fa4ecba-bad1-4aad-bef6-1d7b3360aa5a",
   "metadata": {},
   "outputs": [
    {
     "data": {
      "text/plain": [
       "0"
      ]
     },
     "execution_count": 10,
     "metadata": {},
     "output_type": "execute_result"
    }
   ],
   "source": [
    "train_df.isna().sum().sum()"
   ]
  },
  {
   "cell_type": "code",
   "execution_count": 11,
   "id": "988591a6-0705-4d11-8871-df6a58e8c22a",
   "metadata": {},
   "outputs": [
    {
     "data": {
      "text/plain": [
       "(2013, 4)"
      ]
     },
     "execution_count": 11,
     "metadata": {},
     "output_type": "execute_result"
    }
   ],
   "source": [
    "train_df.shape"
   ]
  },
  {
   "cell_type": "code",
   "execution_count": 12,
   "id": "8a02ffd8-f40f-4f62-991c-b78334e70d19",
   "metadata": {},
   "outputs": [
    {
     "data": {
      "text/plain": [
       "<AxesSubplot:xlabel='outcome', ylabel='count'>"
      ]
     },
     "execution_count": 12,
     "metadata": {},
     "output_type": "execute_result"
    },
    {
     "data": {
      "image/png": "[encoded data removed]",
      "text/plain": [
       "<Figure size 432x288 with 1 Axes>"
      ]
     },
     "metadata": {
      "needs_background": "light"
     },
     "output_type": "display_data"
    }
   ],
   "source": [
    "sns.countplot(data=train_df, x='outcome')"
   ]
  },
  {
   "cell_type": "code",
   "execution_count": 13,
   "id": "f322a5d3-d288-4a14-9363-3432e17e4612",
   "metadata": {},
   "outputs": [
    {
     "data": {
      "text/html": [
       "<div>\n",
       "<style scoped>\n",
       "    .dataframe tbody tr th:only-of-type {\n",
       "        vertical-align: middle;\n",
       "    }\n",
       "\n",
       "    .dataframe tbody tr th {\n",
       "        vertical-align: top;\n",
       "    }\n",
       "\n",
       "    .dataframe thead th {\n",
       "        text-align: right;\n",
       "    }\n",
       "</style>\n",
       "<table border=\"1\" class=\"dataframe\">\n",
       "  <thead>\n",
       "    <tr style=\"text-align: right;\">\n",
       "      <th></th>\n",
       "      <th>bid_id</th>\n",
       "      <th>bidder_id</th>\n",
       "      <th>auction</th>\n",
       "      <th>merchandise</th>\n",
       "      <th>device</th>\n",
       "      <th>time</th>\n",
       "      <th>country</th>\n",
       "      <th>ip</th>\n",
       "      <th>url</th>\n",
       "    </tr>\n",
       "  </thead>\n",
       "  <tbody>\n",
       "    <tr>\n",
       "      <th>0</th>\n",
       "      <td>0</td>\n",
       "      <td>8dac2b259fd1c6d1120e519fb1ac14fbqvax8</td>\n",
       "      <td>ewmzr</td>\n",
       "      <td>jewelry</td>\n",
       "      <td>phone0</td>\n",
       "      <td>9759243157894736</td>\n",
       "      <td>us</td>\n",
       "      <td>69.166.231.58</td>\n",
       "      <td>vasstdc27m7nks3</td>\n",
       "    </tr>\n",
       "    <tr>\n",
       "      <th>1</th>\n",
       "      <td>1</td>\n",
       "      <td>668d393e858e8126275433046bbd35c6tywop</td>\n",
       "      <td>aeqok</td>\n",
       "      <td>furniture</td>\n",
       "      <td>phone1</td>\n",
       "      <td>9759243157894736</td>\n",
       "      <td>in</td>\n",
       "      <td>50.201.125.84</td>\n",
       "      <td>jmqlhflrzwuay9c</td>\n",
       "    </tr>\n",
       "    <tr>\n",
       "      <th>2</th>\n",
       "      <td>2</td>\n",
       "      <td>aa5f360084278b35d746fa6af3a7a1a5ra3xe</td>\n",
       "      <td>wa00e</td>\n",
       "      <td>home goods</td>\n",
       "      <td>phone2</td>\n",
       "      <td>9759243157894736</td>\n",
       "      <td>py</td>\n",
       "      <td>112.54.208.157</td>\n",
       "      <td>vasstdc27m7nks3</td>\n",
       "    </tr>\n",
       "    <tr>\n",
       "      <th>3</th>\n",
       "      <td>3</td>\n",
       "      <td>3939ac3ef7d472a59a9c5f893dd3e39fh9ofi</td>\n",
       "      <td>jefix</td>\n",
       "      <td>jewelry</td>\n",
       "      <td>phone4</td>\n",
       "      <td>9759243157894736</td>\n",
       "      <td>in</td>\n",
       "      <td>18.99.175.133</td>\n",
       "      <td>vasstdc27m7nks3</td>\n",
       "    </tr>\n",
       "    <tr>\n",
       "      <th>4</th>\n",
       "      <td>4</td>\n",
       "      <td>8393c48eaf4b8fa96886edc7cf27b372dsibi</td>\n",
       "      <td>jefix</td>\n",
       "      <td>jewelry</td>\n",
       "      <td>phone5</td>\n",
       "      <td>9759243157894736</td>\n",
       "      <td>in</td>\n",
       "      <td>145.138.5.37</td>\n",
       "      <td>vasstdc27m7nks3</td>\n",
       "    </tr>\n",
       "  </tbody>\n",
       "</table>\n",
       "</div>"
      ],
      "text/plain": [
       "   bid_id                              bidder_id auction merchandise  device  \\\n",
       "0       0  8dac2b259fd1c6d1120e519fb1ac14fbqvax8   ewmzr     jewelry  phone0   \n",
       "1       1  668d393e858e8126275433046bbd35c6tywop   aeqok   furniture  phone1   \n",
       "2       2  aa5f360084278b35d746fa6af3a7a1a5ra3xe   wa00e  home goods  phone2   \n",
       "3       3  3939ac3ef7d472a59a9c5f893dd3e39fh9ofi   jefix     jewelry  phone4   \n",
       "4       4  8393c48eaf4b8fa96886edc7cf27b372dsibi   jefix     jewelry  phone5   \n",
       "\n",
       "               time country              ip              url  \n",
       "0  9759243157894736      us   69.166.231.58  vasstdc27m7nks3  \n",
       "1  9759243157894736      in   50.201.125.84  jmqlhflrzwuay9c  \n",
       "2  9759243157894736      py  112.54.208.157  vasstdc27m7nks3  \n",
       "3  9759243157894736      in   18.99.175.133  vasstdc27m7nks3  \n",
       "4  9759243157894736      in    145.138.5.37  vasstdc27m7nks3  "
      ]
     },
     "execution_count": 13,
     "metadata": {},
     "output_type": "execute_result"
    }
   ],
   "source": [
    "bid_df = pd.read_csv('./bids.csv')\n",
    "bid_df.head()"
   ]
  },
  {
   "cell_type": "code",
   "execution_count": 14,
   "id": "44beab62-6acc-4660-a89a-254a051a8f56",
   "metadata": {},
   "outputs": [],
   "source": [
    "def get_sameness(series):\n",
    "    \"\"\"\n",
    "    Computes sameness. \n",
    "    \"\"\"\n",
    "    if len(series) == 0:\n",
    "        return 0.3\n",
    "    vc = series.value_counts()\n",
    "    p_vc = vc / len(series)\n",
    "    res = np.dot(vc.values, p_vc.values)\n",
    "    return res / len(series)"
   ]
  },
  {
   "cell_type": "code",
   "execution_count": 15,
   "id": "c04f5f65-a6ef-4a83-8325-5994e69f0c75",
   "metadata": {},
   "outputs": [
    {
     "data": {
      "text/plain": [
       "1.0"
      ]
     },
     "execution_count": 15,
     "metadata": {},
     "output_type": "execute_result"
    }
   ],
   "source": [
    "get_sameness(bid_df[bid_df[\"bidder_id\"] == \"1c5f4fc669099bfbfac515cd26997bd12ruaj\"][\"merchandise\"])"
   ]
  },
  {
   "cell_type": "code",
   "execution_count": 16,
   "id": "8a08a593-f05a-49ae-bf7f-f3e6070beb49",
   "metadata": {},
   "outputs": [],
   "source": [
    "def preprocess_data(df, bid_df):\n",
    "    # unique = {}\n",
    "    # col_to_iter = [\"bidder_id\", \"auction\", \"device\", \"ip\", \"url\"]\n",
    "    # for col in col_to_iter:\n",
    "    #     unique[col] = df[col].rename(f\"{col}_unique\")\n",
    "    #     unique[col] = unique[col].map(unique[col].value_counts() == 1)\n",
    "    bidder_id_count = df[\"bidder_id\"].rename(\"bidder_id_count\")\n",
    "    bidder_id_count = bidder_id_count.map(bid_df[\"bidder_id\"].value_counts())\n",
    "    sameness = {}\n",
    "    col_to_iter = [\"auction\", \"merchandise\", \"device\", \"country\", \"ip\", \"url\"]\n",
    "#     param = {}\n",
    "#     for col in col_to_iter_2:\n",
    "#         param[col] = np.zeros(len(df), dtype=object)\n",
    "#         i = 0\n",
    "#         for bidder_id in df[\"bidder_id\"]:\n",
    "#             print(col, i)\n",
    "#             series = bid_df[bid_df[\"bidder_id\"] == bidder_id][col]\n",
    "#             param[col][i] = series\n",
    "#             # print(series)\n",
    "#             i += 1\n",
    "#         print(param[col])\n",
    "            \n",
    "#     print(param)\n",
    "#     print(sameness)\n",
    "            \n",
    "#     for col in col_to_iter_2:\n",
    "#         sameness[col] = get_sameness(param[col])\n",
    "#         print(col)\n",
    "        \n",
    "    for col in col_to_iter:\n",
    "        sameness[col] = np.zeros(len(df), dtype=object)\n",
    "        i = 0\n",
    "        for bidder_id in df[\"bidder_id\"]:\n",
    "            print(col, i)\n",
    "            sameness[col][i] = get_sameness(bid_df[bid_df[\"bidder_id\"] == bidder_id][col])\n",
    "            i += 1\n",
    "        print(sameness[col])\n",
    "        \n",
    "    sameness = pd.DataFrame(sameness)\n",
    "    bidder_id_count = pd.DataFrame(bidder_id_count)\n",
    "    sameness = pd.concat([sameness, bidder_id_count], axis=1)\n",
    "    df = pd.concat([df, sameness], axis=1)\n",
    "    df.drop(columns=['bidder_id', 'payment_account', 'address'], axis=1, inplace=True)\n",
    "    return df"
   ]
  },
  {
   "cell_type": "code",
   "execution_count": 17,
   "id": "95f4d3c3-e811-4814-90a4-759ae573d11d",
   "metadata": {
    "scrolled": true,
    "tags": []
   },
   "outputs": [],
   "source": [
    "if os.path.exists('./preprocessed_train.csv'):\n",
    "    train_df = pd.read_csv('./preprocessed_train.csv')\n",
    "else:\n",
    "    train_df = preprocess_data(train_df, bid_df)\n",
    "    train_df.to_csv('preprocessed_train.csv', sep=',', index=False)"
   ]
  },
  {
   "cell_type": "code",
   "execution_count": 18,
   "id": "ff3350fe-034c-4cdc-a63f-f6bfbb8ada86",
   "metadata": {},
   "outputs": [
    {
     "data": {
      "text/html": [
       "<div>\n",
       "<style scoped>\n",
       "    .dataframe tbody tr th:only-of-type {\n",
       "        vertical-align: middle;\n",
       "    }\n",
       "\n",
       "    .dataframe tbody tr th {\n",
       "        vertical-align: top;\n",
       "    }\n",
       "\n",
       "    .dataframe thead th {\n",
       "        text-align: right;\n",
       "    }\n",
       "</style>\n",
       "<table border=\"1\" class=\"dataframe\">\n",
       "  <thead>\n",
       "    <tr style=\"text-align: right;\">\n",
       "      <th></th>\n",
       "      <th>outcome</th>\n",
       "      <th>auction</th>\n",
       "      <th>merchandise</th>\n",
       "      <th>device</th>\n",
       "      <th>country</th>\n",
       "      <th>ip</th>\n",
       "      <th>url</th>\n",
       "      <th>bidder_id_count</th>\n",
       "    </tr>\n",
       "  </thead>\n",
       "  <tbody>\n",
       "    <tr>\n",
       "      <th>0</th>\n",
       "      <td>0.0</td>\n",
       "      <td>0.065972</td>\n",
       "      <td>1.0</td>\n",
       "      <td>0.118056</td>\n",
       "      <td>0.354167</td>\n",
       "      <td>0.065972</td>\n",
       "      <td>1.000000</td>\n",
       "      <td>24.0</td>\n",
       "    </tr>\n",
       "    <tr>\n",
       "      <th>1</th>\n",
       "      <td>0.0</td>\n",
       "      <td>1.000000</td>\n",
       "      <td>1.0</td>\n",
       "      <td>0.555556</td>\n",
       "      <td>1.000000</td>\n",
       "      <td>0.333333</td>\n",
       "      <td>0.555556</td>\n",
       "      <td>3.0</td>\n",
       "    </tr>\n",
       "    <tr>\n",
       "      <th>2</th>\n",
       "      <td>0.0</td>\n",
       "      <td>0.250000</td>\n",
       "      <td>1.0</td>\n",
       "      <td>0.625000</td>\n",
       "      <td>1.000000</td>\n",
       "      <td>0.250000</td>\n",
       "      <td>0.625000</td>\n",
       "      <td>4.0</td>\n",
       "    </tr>\n",
       "    <tr>\n",
       "      <th>3</th>\n",
       "      <td>0.0</td>\n",
       "      <td>1.000000</td>\n",
       "      <td>1.0</td>\n",
       "      <td>1.000000</td>\n",
       "      <td>1.000000</td>\n",
       "      <td>1.000000</td>\n",
       "      <td>1.000000</td>\n",
       "      <td>1.0</td>\n",
       "    </tr>\n",
       "    <tr>\n",
       "      <th>4</th>\n",
       "      <td>0.0</td>\n",
       "      <td>0.121498</td>\n",
       "      <td>1.0</td>\n",
       "      <td>0.049906</td>\n",
       "      <td>0.987180</td>\n",
       "      <td>0.013611</td>\n",
       "      <td>0.127076</td>\n",
       "      <td>155.0</td>\n",
       "    </tr>\n",
       "  </tbody>\n",
       "</table>\n",
       "</div>"
      ],
      "text/plain": [
       "   outcome   auction  merchandise    device   country        ip       url  \\\n",
       "0      0.0  0.065972          1.0  0.118056  0.354167  0.065972  1.000000   \n",
       "1      0.0  1.000000          1.0  0.555556  1.000000  0.333333  0.555556   \n",
       "2      0.0  0.250000          1.0  0.625000  1.000000  0.250000  0.625000   \n",
       "3      0.0  1.000000          1.0  1.000000  1.000000  1.000000  1.000000   \n",
       "4      0.0  0.121498          1.0  0.049906  0.987180  0.013611  0.127076   \n",
       "\n",
       "   bidder_id_count  \n",
       "0             24.0  \n",
       "1              3.0  \n",
       "2              4.0  \n",
       "3              1.0  \n",
       "4            155.0  "
      ]
     },
     "execution_count": 18,
     "metadata": {},
     "output_type": "execute_result"
    }
   ],
   "source": [
    "train_df.head()"
   ]
  },
  {
   "cell_type": "code",
   "execution_count": 19,
   "id": "0a62a57c-59e1-4597-bf28-b2d8f5b293f6",
   "metadata": {},
   "outputs": [
    {
     "data": {
      "text/plain": [
       "outcome             0\n",
       "auction             0\n",
       "merchandise         0\n",
       "device              0\n",
       "country             0\n",
       "ip                  0\n",
       "url                 0\n",
       "bidder_id_count    29\n",
       "dtype: int64"
      ]
     },
     "execution_count": 19,
     "metadata": {},
     "output_type": "execute_result"
    }
   ],
   "source": [
    "train_df.isna().sum()"
   ]
  },
  {
   "cell_type": "code",
   "execution_count": 20,
   "id": "1371aa7a-273e-4805-8497-ed32081356ce",
   "metadata": {},
   "outputs": [],
   "source": [
    "train_df['bidder_id_count'].fillna(train_df['bidder_id_count'].mean(), inplace=True)"
   ]
  },
  {
   "cell_type": "code",
   "execution_count": 21,
   "id": "1afa4507-deca-4174-8ebf-83fc360e1dbb",
   "metadata": {},
   "outputs": [],
   "source": [
    "bid_df.drop(columns=['bid_id', 'time'], inplace=True, axis=1)"
   ]
  },
  {
   "cell_type": "code",
   "execution_count": 22,
   "id": "5f967b0a-bf79-443f-b153-a5f608586b87",
   "metadata": {},
   "outputs": [
    {
     "name": "stdout",
     "output_type": "stream",
     "text": [
      "<class 'pandas.core.frame.DataFrame'>\n",
      "RangeIndex: 7656334 entries, 0 to 7656333\n",
      "Data columns (total 7 columns):\n",
      " #   Column       Dtype \n",
      "---  ------       ----- \n",
      " 0   bidder_id    object\n",
      " 1   auction      object\n",
      " 2   merchandise  object\n",
      " 3   device       object\n",
      " 4   country      object\n",
      " 5   ip           object\n",
      " 6   url          object\n",
      "dtypes: object(7)\n",
      "memory usage: 408.9+ MB\n"
     ]
    }
   ],
   "source": [
    "bid_df.info()"
   ]
  },
  {
   "cell_type": "code",
   "execution_count": 23,
   "id": "3a457bf1-c824-41a4-aec9-b2dc0c90a5bc",
   "metadata": {},
   "outputs": [
    {
     "data": {
      "text/html": [
       "<div>\n",
       "<style scoped>\n",
       "    .dataframe tbody tr th:only-of-type {\n",
       "        vertical-align: middle;\n",
       "    }\n",
       "\n",
       "    .dataframe tbody tr th {\n",
       "        vertical-align: top;\n",
       "    }\n",
       "\n",
       "    .dataframe thead th {\n",
       "        text-align: right;\n",
       "    }\n",
       "</style>\n",
       "<table border=\"1\" class=\"dataframe\">\n",
       "  <thead>\n",
       "    <tr style=\"text-align: right;\">\n",
       "      <th></th>\n",
       "      <th>bidder_id</th>\n",
       "      <th>auction</th>\n",
       "      <th>merchandise</th>\n",
       "      <th>device</th>\n",
       "      <th>country</th>\n",
       "      <th>ip</th>\n",
       "      <th>url</th>\n",
       "    </tr>\n",
       "  </thead>\n",
       "  <tbody>\n",
       "    <tr>\n",
       "      <th>count</th>\n",
       "      <td>7656334</td>\n",
       "      <td>7656334</td>\n",
       "      <td>7656334</td>\n",
       "      <td>7656334</td>\n",
       "      <td>7647475</td>\n",
       "      <td>7656334</td>\n",
       "      <td>7656334</td>\n",
       "    </tr>\n",
       "    <tr>\n",
       "      <th>unique</th>\n",
       "      <td>6614</td>\n",
       "      <td>15051</td>\n",
       "      <td>10</td>\n",
       "      <td>7351</td>\n",
       "      <td>199</td>\n",
       "      <td>2303991</td>\n",
       "      <td>1786351</td>\n",
       "    </tr>\n",
       "    <tr>\n",
       "      <th>top</th>\n",
       "      <td>f5b2bbad20d1d7ded3ed960393bec0f40u6hn</td>\n",
       "      <td>jqx39</td>\n",
       "      <td>mobile</td>\n",
       "      <td>phone4</td>\n",
       "      <td>in</td>\n",
       "      <td>37.95.134.218</td>\n",
       "      <td>vasstdc27m7nks3</td>\n",
       "    </tr>\n",
       "    <tr>\n",
       "      <th>freq</th>\n",
       "      <td>515033</td>\n",
       "      <td>537347</td>\n",
       "      <td>2126587</td>\n",
       "      <td>706573</td>\n",
       "      <td>1788731</td>\n",
       "      <td>61203</td>\n",
       "      <td>3499409</td>\n",
       "    </tr>\n",
       "  </tbody>\n",
       "</table>\n",
       "</div>"
      ],
      "text/plain": [
       "                                    bidder_id  auction merchandise   device  \\\n",
       "count                                 7656334  7656334     7656334  7656334   \n",
       "unique                                   6614    15051          10     7351   \n",
       "top     f5b2bbad20d1d7ded3ed960393bec0f40u6hn    jqx39      mobile   phone4   \n",
       "freq                                   515033   537347     2126587   706573   \n",
       "\n",
       "        country             ip              url  \n",
       "count   7647475        7656334          7656334  \n",
       "unique      199        2303991          1786351  \n",
       "top          in  37.95.134.218  vasstdc27m7nks3  \n",
       "freq    1788731          61203          3499409  "
      ]
     },
     "execution_count": 23,
     "metadata": {},
     "output_type": "execute_result"
    }
   ],
   "source": [
    "bid_df.describe()"
   ]
  },
  {
   "cell_type": "code",
   "execution_count": 24,
   "id": "bacf09a7-797e-4902-b30b-5851783b0659",
   "metadata": {},
   "outputs": [
    {
     "data": {
      "text/plain": [
       "bidder_id         0\n",
       "auction           0\n",
       "merchandise       0\n",
       "device            0\n",
       "country        8859\n",
       "ip                0\n",
       "url               0\n",
       "dtype: int64"
      ]
     },
     "execution_count": 24,
     "metadata": {},
     "output_type": "execute_result"
    }
   ],
   "source": [
    "bid_df.isna().sum()"
   ]
  },
  {
   "cell_type": "code",
   "execution_count": 25,
   "id": "b547e757-50b0-4a90-bba2-cc7a46199cd3",
   "metadata": {},
   "outputs": [
    {
     "data": {
      "text/plain": [
       "(7656334, 7)"
      ]
     },
     "execution_count": 25,
     "metadata": {},
     "output_type": "execute_result"
    }
   ],
   "source": [
    "bid_df.shape"
   ]
  },
  {
   "cell_type": "code",
   "execution_count": 59,
   "id": "f9184c93-2218-4241-a052-2a392d1b2792",
   "metadata": {},
   "outputs": [
    {
     "data": {
      "text/html": [
       "<div>\n",
       "<style scoped>\n",
       "    .dataframe tbody tr th:only-of-type {\n",
       "        vertical-align: middle;\n",
       "    }\n",
       "\n",
       "    .dataframe tbody tr th {\n",
       "        vertical-align: top;\n",
       "    }\n",
       "\n",
       "    .dataframe thead th {\n",
       "        text-align: right;\n",
       "    }\n",
       "</style>\n",
       "<table border=\"1\" class=\"dataframe\">\n",
       "  <thead>\n",
       "    <tr style=\"text-align: right;\">\n",
       "      <th></th>\n",
       "      <th>bidder_id</th>\n",
       "      <th>payment_account</th>\n",
       "      <th>address</th>\n",
       "    </tr>\n",
       "  </thead>\n",
       "  <tbody>\n",
       "    <tr>\n",
       "      <th>0</th>\n",
       "      <td>49bb5a3c944b8fc337981cc7a9ccae41u31d7</td>\n",
       "      <td>a3d2de7675556553a5f08e4c88d2c228htx90</td>\n",
       "      <td>5d9fa1b71f992e7c7a106ce4b07a0a754le7c</td>\n",
       "    </tr>\n",
       "    <tr>\n",
       "      <th>1</th>\n",
       "      <td>a921612b85a1494456e74c09393ccb65ylp4y</td>\n",
       "      <td>a3d2de7675556553a5f08e4c88d2c228rs17i</td>\n",
       "      <td>a3d2de7675556553a5f08e4c88d2c228klidn</td>\n",
       "    </tr>\n",
       "    <tr>\n",
       "      <th>2</th>\n",
       "      <td>6b601e72a4d264dab9ace9d7b229b47479v6i</td>\n",
       "      <td>925381cce086b8cc9594eee1c77edf665zjpl</td>\n",
       "      <td>a3d2de7675556553a5f08e4c88d2c228aght0</td>\n",
       "    </tr>\n",
       "    <tr>\n",
       "      <th>3</th>\n",
       "      <td>eaf0ed0afc9689779417274b4791726cn5udi</td>\n",
       "      <td>a3d2de7675556553a5f08e4c88d2c228nclv5</td>\n",
       "      <td>b5714de1fd69d4a0d2e39d59e53fe9e15vwat</td>\n",
       "    </tr>\n",
       "    <tr>\n",
       "      <th>4</th>\n",
       "      <td>cdecd8d02ed8c6037e38042c7745f688mx5sf</td>\n",
       "      <td>a3d2de7675556553a5f08e4c88d2c228dtdkd</td>\n",
       "      <td>c3b363a3c3b838d58c85acf0fc9964cb4pnfa</td>\n",
       "    </tr>\n",
       "  </tbody>\n",
       "</table>\n",
       "</div>"
      ],
      "text/plain": [
       "                               bidder_id  \\\n",
       "0  49bb5a3c944b8fc337981cc7a9ccae41u31d7   \n",
       "1  a921612b85a1494456e74c09393ccb65ylp4y   \n",
       "2  6b601e72a4d264dab9ace9d7b229b47479v6i   \n",
       "3  eaf0ed0afc9689779417274b4791726cn5udi   \n",
       "4  cdecd8d02ed8c6037e38042c7745f688mx5sf   \n",
       "\n",
       "                         payment_account  \\\n",
       "0  a3d2de7675556553a5f08e4c88d2c228htx90   \n",
       "1  a3d2de7675556553a5f08e4c88d2c228rs17i   \n",
       "2  925381cce086b8cc9594eee1c77edf665zjpl   \n",
       "3  a3d2de7675556553a5f08e4c88d2c228nclv5   \n",
       "4  a3d2de7675556553a5f08e4c88d2c228dtdkd   \n",
       "\n",
       "                                 address  \n",
       "0  5d9fa1b71f992e7c7a106ce4b07a0a754le7c  \n",
       "1  a3d2de7675556553a5f08e4c88d2c228klidn  \n",
       "2  a3d2de7675556553a5f08e4c88d2c228aght0  \n",
       "3  b5714de1fd69d4a0d2e39d59e53fe9e15vwat  \n",
       "4  c3b363a3c3b838d58c85acf0fc9964cb4pnfa  "
      ]
     },
     "execution_count": 59,
     "metadata": {},
     "output_type": "execute_result"
    }
   ],
   "source": [
    "test_df = pd.read_csv('./test.csv')\n",
    "test_df.head()"
   ]
  },
  {
   "cell_type": "code",
   "execution_count": 61,
   "id": "7eafaaf6-8231-440e-b1b0-7d10ed898039",
   "metadata": {},
   "outputs": [],
   "source": [
    "bidder_id = test_df['bidder_id']"
   ]
  },
  {
   "cell_type": "code",
   "execution_count": 27,
   "id": "2e08252a-9215-4f20-b34d-9d2838795391",
   "metadata": {},
   "outputs": [
    {
     "name": "stdout",
     "output_type": "stream",
     "text": [
      "<class 'pandas.core.frame.DataFrame'>\n",
      "RangeIndex: 4700 entries, 0 to 4699\n",
      "Data columns (total 3 columns):\n",
      " #   Column           Non-Null Count  Dtype \n",
      "---  ------           --------------  ----- \n",
      " 0   bidder_id        4700 non-null   object\n",
      " 1   payment_account  4700 non-null   object\n",
      " 2   address          4700 non-null   object\n",
      "dtypes: object(3)\n",
      "memory usage: 110.3+ KB\n"
     ]
    }
   ],
   "source": [
    "test_df.info()"
   ]
  },
  {
   "cell_type": "code",
   "execution_count": 28,
   "id": "f69400d1-175a-492d-b38e-ce9604d0954e",
   "metadata": {},
   "outputs": [
    {
     "data": {
      "text/html": [
       "<div>\n",
       "<style scoped>\n",
       "    .dataframe tbody tr th:only-of-type {\n",
       "        vertical-align: middle;\n",
       "    }\n",
       "\n",
       "    .dataframe tbody tr th {\n",
       "        vertical-align: top;\n",
       "    }\n",
       "\n",
       "    .dataframe thead th {\n",
       "        text-align: right;\n",
       "    }\n",
       "</style>\n",
       "<table border=\"1\" class=\"dataframe\">\n",
       "  <thead>\n",
       "    <tr style=\"text-align: right;\">\n",
       "      <th></th>\n",
       "      <th>bidder_id</th>\n",
       "      <th>payment_account</th>\n",
       "      <th>address</th>\n",
       "    </tr>\n",
       "  </thead>\n",
       "  <tbody>\n",
       "    <tr>\n",
       "      <th>count</th>\n",
       "      <td>4700</td>\n",
       "      <td>4700</td>\n",
       "      <td>4700</td>\n",
       "    </tr>\n",
       "    <tr>\n",
       "      <th>unique</th>\n",
       "      <td>4700</td>\n",
       "      <td>4700</td>\n",
       "      <td>4700</td>\n",
       "    </tr>\n",
       "    <tr>\n",
       "      <th>top</th>\n",
       "      <td>49bb5a3c944b8fc337981cc7a9ccae41u31d7</td>\n",
       "      <td>a3d2de7675556553a5f08e4c88d2c228htx90</td>\n",
       "      <td>5d9fa1b71f992e7c7a106ce4b07a0a754le7c</td>\n",
       "    </tr>\n",
       "    <tr>\n",
       "      <th>freq</th>\n",
       "      <td>1</td>\n",
       "      <td>1</td>\n",
       "      <td>1</td>\n",
       "    </tr>\n",
       "  </tbody>\n",
       "</table>\n",
       "</div>"
      ],
      "text/plain": [
       "                                    bidder_id  \\\n",
       "count                                    4700   \n",
       "unique                                   4700   \n",
       "top     49bb5a3c944b8fc337981cc7a9ccae41u31d7   \n",
       "freq                                        1   \n",
       "\n",
       "                              payment_account  \\\n",
       "count                                    4700   \n",
       "unique                                   4700   \n",
       "top     a3d2de7675556553a5f08e4c88d2c228htx90   \n",
       "freq                                        1   \n",
       "\n",
       "                                      address  \n",
       "count                                    4700  \n",
       "unique                                   4700  \n",
       "top     5d9fa1b71f992e7c7a106ce4b07a0a754le7c  \n",
       "freq                                        1  "
      ]
     },
     "execution_count": 28,
     "metadata": {},
     "output_type": "execute_result"
    }
   ],
   "source": [
    "test_df.describe()"
   ]
  },
  {
   "cell_type": "code",
   "execution_count": 29,
   "id": "429c0847-2eef-43b3-8e3a-20d4f5d33c28",
   "metadata": {},
   "outputs": [
    {
     "data": {
      "text/plain": [
       "bidder_id          0\n",
       "payment_account    0\n",
       "address            0\n",
       "dtype: int64"
      ]
     },
     "execution_count": 29,
     "metadata": {},
     "output_type": "execute_result"
    }
   ],
   "source": [
    "test_df.isna().sum()"
   ]
  },
  {
   "cell_type": "code",
   "execution_count": 30,
   "id": "50cd339f-72d9-4e80-ba78-9581746499fb",
   "metadata": {},
   "outputs": [
    {
     "data": {
      "text/plain": [
       "(4700, 3)"
      ]
     },
     "execution_count": 30,
     "metadata": {},
     "output_type": "execute_result"
    }
   ],
   "source": [
    "test_df.shape"
   ]
  },
  {
   "cell_type": "code",
   "execution_count": 31,
   "id": "ed269f93-dfc7-4ef7-8eac-fa8333d09f35",
   "metadata": {
    "scrolled": true,
    "tags": []
   },
   "outputs": [],
   "source": [
    "if os.path.exists('./preprocessed_test.csv'):\n",
    "    test_df = pd.read_csv('./preprocessed_test.csv')\n",
    "else:\n",
    "    test_df = preprocess_data(test_df, bid_df)\n",
    "    test_df.to_csv('preprocessed_test.csv', sep=',', index=False)"
   ]
  },
  {
   "cell_type": "code",
   "execution_count": 53,
   "id": "afde7026-f257-4761-98b0-29e8e79e1cd1",
   "metadata": {},
   "outputs": [
    {
     "data": {
      "text/plain": [
       "auction             0\n",
       "merchandise         0\n",
       "device              0\n",
       "country             0\n",
       "ip                  0\n",
       "url                 0\n",
       "bidder_id_count    70\n",
       "dtype: int64"
      ]
     },
     "execution_count": 53,
     "metadata": {},
     "output_type": "execute_result"
    }
   ],
   "source": [
    "test_df.isna().sum()"
   ]
  },
  {
   "cell_type": "code",
   "execution_count": 55,
   "id": "c86b58a7-0e25-45ad-a5ec-d68115a11aef",
   "metadata": {},
   "outputs": [],
   "source": [
    "test_df[\"bidder_id_count\"].fillna(test_df[\"bidder_id_count\"].mean(), inplace=True)"
   ]
  },
  {
   "cell_type": "code",
   "execution_count": 33,
   "id": "e2dc1c23-bced-4675-bd79-4b22344c64c7",
   "metadata": {},
   "outputs": [],
   "source": [
    "# test_bidder_in_train = 0\n",
    "# def inc_bidder(x):\n",
    "#     global test_bidder_in_train\n",
    "#     if x in train_df['bidder_id']:\n",
    "#         test_bidder_in_train += 1\n",
    "# test_df['bidder_id'].apply(inc_bidder)\n",
    "# test_bidder_in_train"
   ]
  },
  {
   "cell_type": "code",
   "execution_count": null,
   "id": "87d22d4c-8907-4cf2-8e91-02075549cea7",
   "metadata": {},
   "outputs": [],
   "source": [
    "# test_acc_in_train = 0\n",
    "# def inc_accr(x):\n",
    "#     global test_acc_in_train\n",
    "#     if x in train_df['payment_account']:\n",
    "#         test_acc_in_train += 1\n",
    "# test_df['payment_account'].apply(inc_accr)\n",
    "# test_acc_in_train"
   ]
  },
  {
   "cell_type": "code",
   "execution_count": null,
   "id": "d6229d57-8060-4f2a-b952-b036bba551ba",
   "metadata": {},
   "outputs": [],
   "source": [
    "# test_address_in_train = 0\n",
    "# def inc_address(x):\n",
    "#     global test_address_in_train\n",
    "#     if x in train_df['address']:\n",
    "#         test_address_in_train += 1\n",
    "# test_df['address'].apply(inc_address)\n",
    "# test_address_in_train"
   ]
  },
  {
   "cell_type": "markdown",
   "id": "f5949cae-114b-47b5-bb8b-017e6898aecf",
   "metadata": {},
   "source": [
    "# EDA results:\n",
    "- test_df and train_df don't have common values\n",
    "- outcome is very imbalanced"
   ]
  },
  {
   "cell_type": "markdown",
   "id": "4c9e1db0-89fb-41aa-a509-aa165e7f098a",
   "metadata": {},
   "source": [
    "# Model defining"
   ]
  },
  {
   "cell_type": "code",
   "execution_count": 79,
   "id": "addee7d4-38ab-443e-8384-f6a02fbd0b01",
   "metadata": {},
   "outputs": [
    {
     "data": {
      "text/plain": [
       "((2013, 7), (2013,))"
      ]
     },
     "execution_count": 79,
     "metadata": {},
     "output_type": "execute_result"
    }
   ],
   "source": [
    "X = train_df.drop(columns=['outcome'], axis=1)\n",
    "Y = train_df['outcome']\n",
    "X.shape, Y.shape"
   ]
  },
  {
   "cell_type": "code",
   "execution_count": 80,
   "id": "7567e869-4df6-4b36-984c-9ac571fdc270",
   "metadata": {},
   "outputs": [
    {
     "data": {
      "text/plain": [
       "(4700, 3)"
      ]
     },
     "execution_count": 80,
     "metadata": {},
     "output_type": "execute_result"
    }
   ],
   "source": [
    "X_test = test_df\n",
    "X_test.shape"
   ]
  },
  {
   "cell_type": "code",
   "execution_count": 82,
   "id": "6c9b3e03-b6de-41c2-9102-516051f4f735",
   "metadata": {},
   "outputs": [],
   "source": [
    "from sklearn.ensemble import GradientBoostingClassifier\n",
    "from sklearn.metrics import roc_auc_score, classification_report\n",
    "from sklearn.model_selection import cross_val_score"
   ]
  },
  {
   "cell_type": "code",
   "execution_count": 72,
   "id": "add0fdc9-9dbc-481b-a274-9d521d685559",
   "metadata": {
    "scrolled": true,
    "tags": []
   },
   "outputs": [
    {
     "name": "stdout",
     "output_type": "stream",
     "text": [
      "              precision    recall  f1-score   support\n",
      "\n",
      "         0.0       1.00      1.00      1.00      1910\n",
      "         1.0       1.00      0.95      0.98       103\n",
      "\n",
      "    accuracy                           1.00      2013\n",
      "   macro avg       1.00      0.98      0.99      2013\n",
      "weighted avg       1.00      1.00      1.00      2013\n",
      "\n"
     ]
    }
   ],
   "source": [
    "model_gbc = GradientBoostingClassifier(max_depth=10, n_estimators=500, random_state=42)\n",
    "model_gbc.fit(X, Y)\n",
    "pred_proba_gbc = model_gbc.predict_proba(X)[:,1]\n",
    "print(classification_report(Y, model_gbc.predict(X)))"
   ]
  },
  {
   "cell_type": "code",
   "execution_count": 77,
   "id": "6e8f8d04-cbbc-4f12-9686-fd8a364cca2f",
   "metadata": {},
   "outputs": [],
   "source": [
    "Y_pred = model_gbc.predict_proba(X_test)[:,1]\n",
    "solution = pd.DataFrame({\"bidder_id\": bidder_id, \"prediction\": Y_pred})\n",
    "solution.to_csv(\"submission.csv\", sep=\",\", index=False)"
   ]
  }
 ],
 "metadata": {
  "kernelspec": {
   "display_name": "Python 3 (ipykernel)",
   "language": "python",
   "name": "python3"
  },
  "language_info": {
   "codemirror_mode": {
    "name": "ipython",
    "version": 3
   },
   "file_extension": ".py",
   "mimetype": "text/x-python",
   "name": "python",
   "nbconvert_exporter": "python",
   "pygments_lexer": "ipython3",
   "version": "3.9.7"
  }
 },
 "nbformat": 4,
 "nbformat_minor": 5
}
